{
 "cells": [
  {
   "cell_type": "code",
   "execution_count": null,
   "metadata": {},
   "outputs": [],
   "source": [
    "from cvxopt import matrix, solvers\n",
    "import numpy as np \n",
    "\n",
    "class SVM:\n",
    "    def fit(self, X,y):\n",
    "        m, n = X.shape\n",
    "        y = y.astype(float)\n",
    "        y = y* 2-1\n",
    "\n",
    "        K = np.dot(X, X.T)\n",
    "\n",
    "        P = matrix(np.outer(y, y) * K)\n",
    "        q = matrix(-np.ones((m, 1)))\n",
    "        A = matrix(y.reshape(1, -1).astype(float))\n",
    "        b = matrix(np.zeors(1))\n",
    "        G = matrix(-np.eye(m))\n",
    "        h = matrix(np.zeros(m))\n",
    "\n",
    "        sol = solvers.qp(P, q, G, h, A, b)\n",
    "        alphas = np.array(sol['x']).flatten()\n",
    "\n",
    "        support_vector_indices = alphas > 1e-5\n",
    "        self.support_vecotrs = X[support_vector_indices]\n",
    "        self.alphas = alphas[support_vector_indices]\n",
    "        self.y = y[support_vector_indices]\n",
    "        self.w = np.sum((self.alphas * self.y)[:, None] * self.support_vectors, axis = 0 )\n",
    "        self.b = np.mean(self.y -np.dot(self.support_vecotrs, self.w))\n",
    "\n",
    "    def predict(self, X):\n",
    "        return np.sign(np.dot(X, self.w)+ self.b)"
   ]
  },
  {
   "cell_type": "code",
   "execution_count": null,
   "metadata": {},
   "outputs": [],
   "source": [
    "from sklearn.datasets import load_iris, load_wine\n",
    "from sklearn.model_selection import train_test_split\n",
    "from sklearn.metrics import accuracy_score\n",
    "\n",
    "data = load_wine()\n",
    "X, y = data.data, data.target\n",
    "X_train, X_test, y_train, y_test = train_test_split(X, y, test_size=0.2, random_state=42)\n",
    "\n",
    "svm_model = SVM()\n",
    "svm_model.fit(X_train, y_train)\n",
    "y_pred = svm_model.predict(X_test)\n",
    "print(f\"SVM Accuracy: {accuracy_score(y_test, y_pred):.2f}\")"
   ]
  }
 ],
 "metadata": {
  "language_info": {
   "name": "python"
  }
 },
 "nbformat": 4,
 "nbformat_minor": 2
}
