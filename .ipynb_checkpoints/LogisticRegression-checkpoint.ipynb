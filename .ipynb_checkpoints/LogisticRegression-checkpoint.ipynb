{
 "cells": [
  {
   "cell_type": "markdown",
   "id": "f4d6eb30",
   "metadata": {},
   "source": [
    "# Logistic Regression from scratch \n",
    "I am to implement Logistic Regression from scratch "
   ]
  },
  {
   "cell_type": "markdown",
   "id": "67a2f268",
   "metadata": {},
   "source": [
    "### Import all necessary libraries"
   ]
  },
  {
   "cell_type": "code",
   "execution_count": 2,
   "id": "249765fb",
   "metadata": {},
   "outputs": [],
   "source": [
    "import numpy as np \n",
    "np.set_printoptions( suppress =True )\n",
    "import matplotlib.pyplot as plt\n",
    "import seaborn as sns\n",
    "from sklearn import datasets "
   ]
  },
  {
   "cell_type": "markdown",
   "id": "908887fb",
   "metadata": {},
   "source": [
    "### Binary Logistic Regresion\n",
    "lets create our helper function"
   ]
  },
  {
   "cell_type": "code",
   "execution_count": 9,
   "id": "1c41cc3c",
   "metadata": {},
   "outputs": [],
   "source": [
    "cancer = datasets.load_breast_cancer()\n",
    "X = cancer['data']\n",
    "y = cancer['target']"
   ]
  },
  {
   "cell_type": "code",
   "execution_count": 4,
   "id": "0829998e",
   "metadata": {},
   "outputs": [],
   "source": [
    "def logistic(z):\n",
    "    return (1+ np.exp(-z))**(-1)\n",
    "\n",
    "def standard_scaler(X):\n",
    "    mean = X.mean(0)\n",
    "    sd = X.std(0)\n",
    "    return (X- mean)/sd"
   ]
  },
  {
   "attachments": {
    "image.png": {
     "image/png": "[encoded data removed]"
    }
   },
   "cell_type": "markdown",
   "id": "ac69b19d",
   "metadata": {},
   "source": [
    "the binary logistic regression class first standardizes and adds an intercept term. Then it estimates β with gradient descent, using the gradient of the negatice log-likelihood\n",
    "![image.png](attachment:image.png)"
   ]
  },
  {
   "cell_type": "code",
   "execution_count": 7,
   "id": "a04735a7",
   "metadata": {},
   "outputs": [],
   "source": [
    "class BinaryLogisticRegression:\n",
    "    \n",
    "    def fit(self, X, y, n_iter, lr, standardize = True, has_intercept = False):\n",
    "        \n",
    "        ### Record Info ###\n",
    "        if standardize:\n",
    "            X = standard_scaler(X) \n",
    "        if not has_intercept:\n",
    "            ones = np.ones(X.shape[0]).reshape(-1, 1)\n",
    "            X = np.concatenate((ones, X), axis = 1)\n",
    "        self.X = X\n",
    "        self.N, self.D = X.shape\n",
    "        self.y = y\n",
    "        self.n_iter = n_iter\n",
    "        self.lr = lr\n",
    "\n",
    "        ### Calculate Beta ###\n",
    "        beta = np.random.randn(self.D) \n",
    "        for i in range(n_iter):\n",
    "            p = logistic(np.dot(self.X, beta)) # vector of probabilities \n",
    "            gradient = -np.dot(self.X.T, (self.y-p)) # gradient\n",
    "            beta -= self.lr*gradient \n",
    "            \n",
    "        ### Return Values ###\n",
    "        self.beta = beta\n",
    "        self.p = logistic(np.dot(self.X, self.beta)) \n",
    "        self.yhat = self.p.round()"
   ]
  },
  {
   "cell_type": "code",
   "execution_count": 10,
   "id": "318c0fbd",
   "metadata": {},
   "outputs": [
    {
     "name": "stdout",
     "output_type": "stream",
     "text": [
      "In-sample accuracy: 0.9876977152899824\n"
     ]
    }
   ],
   "source": [
    "binary_model = BinaryLogisticRegression()\n",
    "binary_model.fit(X, y, n_iter = 10**4, lr = 0.0001)\n",
    "print('In-sample accuracy: '  + str(np.mean(binary_model.yhat == binary_model.y)))"
   ]
  }
 ],
 "metadata": {
  "kernelspec": {
   "display_name": "Python 3 (ipykernel)",
   "language": "python",
   "name": "python3"
  },
  "language_info": {
   "codemirror_mode": {
    "name": "ipython",
    "version": 3
   },
   "file_extension": ".py",
   "mimetype": "text/x-python",
   "name": "python",
   "nbconvert_exporter": "python",
   "pygments_lexer": "ipython3",
   "version": "3.11.4"
  }
 },
 "nbformat": 4,
 "nbformat_minor": 5
}
