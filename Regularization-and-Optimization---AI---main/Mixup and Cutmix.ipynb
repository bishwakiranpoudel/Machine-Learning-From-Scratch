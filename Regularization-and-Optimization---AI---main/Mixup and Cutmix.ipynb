{
 "cells": [
  {
   "cell_type": "code",
   "execution_count": 4,
   "id": "dcfe7340",
   "metadata": {},
   "outputs": [],
   "source": [
    "import torch\n",
    "import torch.nn as nn\n",
    "import torch.nn.functional as F\n",
    "import torchvision\n",
    "from torchvision import datasets, transforms\n",
    "from torch.utils.data import DataLoader\n",
    "import matplotlib.pyplot as plt\n",
    "import numpy as np\n",
    "\n",
    "\n",
    "transform = transforms.Compose([\n",
    "    transforms.ToTensor(),\n",
    "    transforms.Normalize((0.5,), (0.5,))\n",
    "])\n",
    "\n",
    "#Load MNIST dataset\n",
    "train_dataset= torchvision.datasets.MNIST(root='./data', train=True, download=False, transform=transform)\n",
    "test_dataset= torchvision.datasets.MNIST(root='./data', train=False, download=False, transform=transform)\n",
    "\n",
    "train_loader = torch.utils.data.DataLoader(dataset = train_dataset, batch_size= 64, shuffle=True)\n",
    "test_loader = torch.utils.data.DataLoader(dataset=test_dataset, batch_size = 1000, shuffle = False)\n",
    "\n"
   ]
  },
  {
   "cell_type": "code",
   "execution_count": 5,
   "id": "d6becb48",
   "metadata": {},
   "outputs": [],
   "source": [
    "# Define a simple feedforward neural network\n",
    "class SimpleNet(nn.Module):\n",
    "    def __init__(self):\n",
    "        super(SimpleNet, self).__init__()\n",
    "        self.fc1 = nn.Linear(28 * 28, 128)\n",
    "        self.fc2 = nn.Linear(128, 64)\n",
    "        self.fc3 = nn.Linear(64, 10)\n",
    "\n",
    "    def forward(self, x):\n",
    "        x = x.view(-1, 28 * 28)\n",
    "        x = F.relu(self.fc1(x))\n",
    "        x = F.relu(self.fc2(x))\n",
    "        x = self.fc3(x)\n",
    "        return x"
   ]
  },
  {
   "cell_type": "code",
   "execution_count": 15,
   "id": "9c2f55ff",
   "metadata": {},
   "outputs": [],
   "source": [
    "def mixup_data(x, y, alpha=1.0):\n",
    "    '''Returns mixed inputs, pairs of targets, and lambda'''\n",
    "    if alpha > 0:\n",
    "        lambda_ = np.random.beta(alpha, alpha)\n",
    "    else:\n",
    "        lambda_ = 1\n",
    "\n",
    "    batch_size = x.size(0)\n",
    "    index = torch.randperm(batch_size).to(x.device)\n",
    "\n",
    "    mixed_x = lambda_ * x + (1 - lambda_) * x[index, :]\n",
    "    y_a, y_b = y, y[index]\n",
    "    return mixed_x, y_a, y_b, lambda_\n"
   ]
  },
  {
   "cell_type": "code",
   "execution_count": 16,
   "id": "78258e8b",
   "metadata": {},
   "outputs": [],
   "source": [
    "def cutmix_data(x, y, alpha=1.0):\n",
    "    \"\"\"Returns cutmix inputs and a cutmix label.\"\"\"\n",
    "    if alpha > 0:\n",
    "        lambda_ = np.random.beta(alpha, alpha)\n",
    "    else:\n",
    "        lambda_ = 1\n",
    "\n",
    "    batch_size, _, h, w = x.size()\n",
    "    cut_rat = np.sqrt(1. - lambda_)\n",
    "    cut_w = int(w * cut_rat)\n",
    "    cut_h = int(h * cut_rat)\n",
    "\n",
    "    cx = np.random.randint(w)\n",
    "    cy = np.random.randint(h)\n",
    "\n",
    "    bbx1 = np.clip(cx - cut_w // 2, 0, w)\n",
    "    bby1 = np.clip(cy - cut_h // 2, 0, h)\n",
    "    bbx2 = np.clip(cx + cut_w // 2, 0, w)\n",
    "    bby2 = np.clip(cy + cut_h // 2, 0, h)\n",
    "\n",
    "    index = torch.randperm(x.size(0)).to(x.device)\n",
    "\n",
    "    x_copy = x.clone()\n",
    "    x_copy[:, :, bby1:bby2, bbx1:bbx2] = x[index, :, bby1:bby2, bbx1:bbx2]\n",
    "\n",
    "    return x_copy, y, y[index], lambda_\n"
   ]
  },
  {
   "cell_type": "code",
   "execution_count": 17,
   "id": "f5227a4f",
   "metadata": {},
   "outputs": [],
   "source": [
    "def train(model, train_loader, criterion, optimizer, epochs, use_cutmix=False):\n",
    "    model.train()  # Set the model to training mode\n",
    "    for epoch in range(epochs):\n",
    "        for inputs, labels in train_loader:\n",
    "            # Move inputs and labels to the same device\n",
    "            inputs, labels = inputs.to(device), labels.to(device)\n",
    "\n",
    "            # Apply Mixup or CutMix\n",
    "            if use_cutmix:\n",
    "                inputs, labels_a, labels_b, lambda_ = cutmix_data(inputs, labels)\n",
    "            else:\n",
    "                inputs, labels_a, labels_b, lambda_ = mixup_data(inputs, labels)\n",
    "\n",
    "            optimizer.zero_grad()  # Zero out the gradients from the previous iteration\n",
    "            outputs = model(inputs)  # Forward pass\n",
    "\n",
    "            # Calculate the loss\n",
    "            loss = lambda_ * criterion(outputs, labels_a) + (1 - lambda_) * criterion(outputs, labels_b)\n",
    "\n",
    "            loss.backward()  # Backward pass (compute gradients)\n",
    "            optimizer.step()  # Update the parameters\n",
    "\n",
    "        print(f\"Epoch [{epoch+1}/{epochs}], Loss: {loss.item():.4f}\")\n"
   ]
  },
  {
   "cell_type": "code",
   "execution_count": 18,
   "id": "c718573c",
   "metadata": {},
   "outputs": [
    {
     "name": "stdout",
     "output_type": "stream",
     "text": [
      "Training with Mixup...\n",
      "Epoch [1/5], Loss: 1.1369\n",
      "Epoch [2/5], Loss: 0.7985\n",
      "Epoch [3/5], Loss: 1.0641\n",
      "Epoch [4/5], Loss: 1.0200\n",
      "Epoch [5/5], Loss: 0.6073\n",
      "Training with CutMix...\n",
      "Epoch [1/5], Loss: 1.5532\n",
      "Epoch [2/5], Loss: 1.1091\n",
      "Epoch [3/5], Loss: 0.8232\n",
      "Epoch [4/5], Loss: 1.7349\n",
      "Epoch [5/5], Loss: 1.0499\n"
     ]
    }
   ],
   "source": [
    "device = torch.device('cuda' if torch.cuda.is_available() else 'cpu')\n",
    "# Initialize model, criterion, and optimizer\n",
    "model = SimpleNet().to(device)\n",
    "criterion = nn.CrossEntropyLoss()\n",
    "optimizer = torch.optim.Adam(model.parameters(), lr=0.001)\n",
    "\n",
    "# Train with Mixup\n",
    "print(\"Training with Mixup...\")\n",
    "train(model, train_loader, criterion, optimizer, epochs=5, use_cutmix=False)\n",
    "\n",
    "# Train with CutMix\n",
    "model = SimpleNet().to(device)  # Reinitialize the model for a fresh start\n",
    "optimizer = torch.optim.Adam(model.parameters(), lr=0.001)\n",
    "\n",
    "print(\"Training with CutMix...\")\n",
    "train(model, train_loader, criterion, optimizer, epochs=5, use_cutmix=True)\n"
   ]
  },
  {
   "cell_type": "code",
   "execution_count": 28,
   "id": "bde798c5",
   "metadata": {},
   "outputs": [
    {
     "data": {
      "image/png": "[encoded data removed]",
      "text/plain": [
       "<Figure size 1000x1000 with 4 Axes>"
      ]
     },
     "metadata": {},
     "output_type": "display_data"
    },
    {
     "data": {
      "image/png": "[encoded data removed]",
      "text/plain": [
       "<Figure size 1000x1000 with 4 Axes>"
      ]
     },
     "metadata": {},
     "output_type": "display_data"
    }
   ],
   "source": [
    "import matplotlib.pyplot as plt\n",
    "\n",
    "def visualize_mixup_cutmix(inputs,lambda_, method=\"Mixup\"):\n",
    "    inputs = inputs.cpu().numpy()\n",
    "    fig, axs = plt.subplots(1, 4, figsize=(10, 10))\n",
    "\n",
    "    for i in range(4):\n",
    "        axs[i].imshow(np.transpose(inputs[i], (1, 2, 0)))\n",
    "        axs[i].set_title(f'{method}: lambda={lambda_:.2f} ')\n",
    "        axs[i].axis('off')\n",
    "\n",
    "    plt.show()\n",
    "\n",
    "# After using Mixup or CutMix in training, you can visualize:\n",
    "inputs, labels = next(iter(train_loader))\n",
    "inputs, labels_a, labels_b, lambda_ = mixup_data(inputs, labels)\n",
    "visualize_mixup_cutmix(inputs,  lambda_, method=\"Mixup\")\n",
    "\n",
    "# Generate CutMix visualization\n",
    "inputs, labels = next(iter(train_loader))  # Fetch a batch from the data loader\n",
    "inputs, labels_a, labels_b, lambda_ = cutmix_data(inputs, labels)  # Apply cutmix\n",
    "visualize_mixup_cutmix(inputs, lambda_, method=\"CutMix\") \n"
   ]
  },
  {
   "cell_type": "code",
   "execution_count": null,
   "id": "cbfffb71",
   "metadata": {},
   "outputs": [],
   "source": []
  },
  {
   "cell_type": "code",
   "execution_count": null,
   "id": "a5f16427",
   "metadata": {},
   "outputs": [],
   "source": []
  }
 ],
 "metadata": {
  "kernelspec": {
   "display_name": "Python 3 (ipykernel)",
   "language": "python",
   "name": "python3"
  },
  "language_info": {
   "codemirror_mode": {
    "name": "ipython",
    "version": 3
   },
   "file_extension": ".py",
   "mimetype": "text/x-python",
   "name": "python",
   "nbconvert_exporter": "python",
   "pygments_lexer": "ipython3",
   "version": "3.11.4"
  }
 },
 "nbformat": 4,
 "nbformat_minor": 5
}
