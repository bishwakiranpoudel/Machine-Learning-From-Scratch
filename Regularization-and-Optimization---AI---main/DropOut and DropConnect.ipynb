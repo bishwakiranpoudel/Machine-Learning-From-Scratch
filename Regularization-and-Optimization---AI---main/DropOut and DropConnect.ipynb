{
 "cells": [
  {
   "cell_type": "code",
   "execution_count": 1,
   "id": "8bb3acc9",
   "metadata": {},
   "outputs": [],
   "source": [
    "import torch \n",
    "import torchvision \n",
    "import torchvision.transforms as transforms\n",
    "\n",
    "transform = transforms.Compose([\n",
    "    transforms.ToTensor(),\n",
    "    transforms.Normalize((0.5,), (0.5,))\n",
    "])\n",
    "\n",
    "#Load MNIST dataset\n",
    "train_dataset= torchvision.datasets.MNIST(root='./data', train=True, download=False, transform=transform)\n",
    "test_dataset= torchvision.datasets.MNIST(root='./data', train=False, download=False, transform=transform)\n",
    "\n",
    "train_loader = torch.utils.data.DataLoader(dataset = train_dataset, batch_size= 64, shuffle=True)\n",
    "test_loader = torch.utils.data.DataLoader(dataset=test_dataset, batch_size = 1000, shuffle = False)"
   ]
  },
  {
   "cell_type": "markdown",
   "id": "bc4ebefa",
   "metadata": {},
   "source": [
    "# Define Models:\n",
    "### a) Baseline Model ( No Regularization )"
   ]
  },
  {
   "cell_type": "code",
   "execution_count": 2,
   "id": "778df611",
   "metadata": {},
   "outputs": [],
   "source": [
    "import torch.nn as nn \n",
    "import torch.nn.functional as F\n",
    "\n",
    "class BaselineNet(nn.Module):\n",
    "    def __init__(self):\n",
    "        super(BaselineNet, self).__init__()\n",
    "        self.fc1 = nn.Linear(28*28, 512)  \n",
    "        self.fc2 = nn.Linear(512, 256)\n",
    "        self.fc3 = nn.Linear(256, 10)\n",
    "    \n",
    "    def forward(self, x):\n",
    "        x = x.view(-1, 28*28)  \n",
    "        x = F.relu(self.fc1(x))\n",
    "        x = F.relu(self.fc2(x))\n",
    "        x = self.fc3(x)\n",
    "        return x\n"
   ]
  },
  {
   "cell_type": "markdown",
   "id": "e5e710ec",
   "metadata": {},
   "source": [
    "### b) Model with Dropout\n"
   ]
  },
  {
   "cell_type": "code",
   "execution_count": 3,
   "id": "cc7e13c7",
   "metadata": {},
   "outputs": [],
   "source": [
    "class DropoutNet(nn.Module):\n",
    "    def __init__(self):\n",
    "        super(DropoutNet, self).__init__()\n",
    "        self.fc1 = nn.Linear(28*28, 512)\n",
    "        self.fc2 = nn.Linear(512, 256)\n",
    "        self.fc3 = nn.Linear(256, 10)\n",
    "        self.dropout = nn.Dropout(p=0.5)  # 50% dropout\n",
    "\n",
    "    def forward(self, x):\n",
    "        x = x.view(-1, 28*28)\n",
    "        x = F.relu(self.fc1(x))\n",
    "        x = self.dropout(x)\n",
    "        x = F.relu(self.fc2(x))\n",
    "        x = self.dropout(x)\n",
    "        x = self.fc3(x)\n",
    "        return x\n"
   ]
  },
  {
   "cell_type": "markdown",
   "id": "31a41bd5",
   "metadata": {},
   "source": [
    "### c) Model with DropConnect\n",
    "DropConnect involves randomlu dropping individual weights rather than dropping activations. You can simulate DropConnect by multiplying weights by random binary masks during forward passes"
   ]
  },
  {
   "cell_type": "code",
   "execution_count": 4,
   "id": "89e56362",
   "metadata": {},
   "outputs": [],
   "source": [
    "class DropConnectNet(nn.Module):\n",
    "    def __init__(self):\n",
    "        super(DropConnectNet, self).__init__()\n",
    "        self.fc1 = nn.Linear(28*28, 512)\n",
    "        self.fc2 = nn.Linear(512, 256)\n",
    "        self.fc3 = nn.Linear(256, 10)\n",
    "    \n",
    "    def forward(self, x):\n",
    "        x = x.view(-1, 28*28)\n",
    "        x = self.dropconnect(self.fc1.weight, x, p=0.5)  # DropConnect on fc1\n",
    "        x = F.relu(x)\n",
    "        x = self.dropconnect(self.fc2.weight, x, p=0.5)  # DropConnect on fc2\n",
    "        x = F.relu(x)\n",
    "        x = self.fc3(x)\n",
    "        return x\n",
    "    \n",
    "    def dropconnect(self, weights, x, p=0.5):\n",
    "        # Simulating DropConnect\n",
    "        mask = torch.bernoulli(torch.full(weights.size(), 1 - p)).to(weights.device)\n",
    "        return F.linear(x, weights * mask)\n"
   ]
  },
  {
   "cell_type": "markdown",
   "id": "c393ee18",
   "metadata": {},
   "source": [
    "# Training the Models"
   ]
  },
  {
   "cell_type": "code",
   "execution_count": 5,
   "id": "3c8a5044",
   "metadata": {},
   "outputs": [],
   "source": [
    "def train(model, train_loader, criterion, optimizer, epochs=5):\n",
    "    model.train()\n",
    "    for epoch in range(epochs):\n",
    "        running_loss = 0.0\n",
    "        for inputs, labels in train_loader:\n",
    "            inputs, labels = inputs.to(device), labels.to(device)\n",
    "            optimizer.zero_grad()\n",
    "            outputs = model(inputs)\n",
    "            loss = criterion(outputs, labels)\n",
    "            loss.backward()\n",
    "            optimizer.step()\n",
    "            running_loss += loss.item()\n",
    "        print(f'Epoch [{epoch+1}/{epochs}], Loss: {running_loss/len(train_loader):.4f}')\n",
    "\n",
    "def evaluate(model, test_loader, criterion):\n",
    "    model.eval()\n",
    "    correct = 0\n",
    "    total = 0\n",
    "    test_loss = 0.0\n",
    "    with torch.no_grad():\n",
    "        for inputs, labels in test_loader:\n",
    "            inputs, labels = inputs.to(device), labels.to(device)\n",
    "            outputs = model(inputs)\n",
    "            loss = criterion(outputs, labels)\n",
    "            test_loss += loss.item()\n",
    "            _, predicted = torch.max(outputs.data, 1)\n",
    "            total += labels.size(0)\n",
    "            correct += (predicted == labels).sum().item()\n",
    "    \n",
    "    accuracy = correct / total\n",
    "    return test_loss / len(test_loader), accuracy\n"
   ]
  },
  {
   "cell_type": "markdown",
   "id": "cfcd73bc",
   "metadata": {},
   "source": [
    "# Running the Experiments\n"
   ]
  },
  {
   "cell_type": "code",
   "execution_count": 6,
   "id": "2dfaade3",
   "metadata": {},
   "outputs": [
    {
     "name": "stdout",
     "output_type": "stream",
     "text": [
      "Epoch [1/5], Loss: 0.2973\n",
      "Epoch [2/5], Loss: 0.1344\n",
      "Epoch [3/5], Loss: 0.0997\n",
      "Epoch [4/5], Loss: 0.0828\n",
      "Epoch [5/5], Loss: 0.0679\n",
      "Epoch [1/5], Loss: 0.5045\n",
      "Epoch [2/5], Loss: 0.3076\n",
      "Epoch [3/5], Loss: 0.2610\n",
      "Epoch [4/5], Loss: 0.2453\n",
      "Epoch [5/5], Loss: 0.2289\n",
      "Epoch [1/5], Loss: 0.4356\n",
      "Epoch [2/5], Loss: 0.2043\n",
      "Epoch [3/5], Loss: 0.1596\n",
      "Epoch [4/5], Loss: 0.1420\n",
      "Epoch [5/5], Loss: 0.1268\n"
     ]
    }
   ],
   "source": [
    "# Set device\n",
    "device = torch.device(\"cuda\" if torch.cuda.is_available() else \"cpu\")\n",
    "\n",
    "# Hyperparameters\n",
    "learning_rate = 0.001\n",
    "epochs = 5\n",
    "\n",
    "# Loss and optimizer\n",
    "criterion = nn.CrossEntropyLoss()\n",
    "\n",
    "# Train and evaluate Baseline model\n",
    "baseline_model = BaselineNet().to(device)\n",
    "optimizer = torch.optim.Adam(baseline_model.parameters(), lr=learning_rate)\n",
    "train(baseline_model, train_loader, criterion, optimizer, epochs)\n",
    "baseline_loss, baseline_acc = evaluate(baseline_model, test_loader, criterion)\n",
    "\n",
    "# Train and evaluate Dropout model\n",
    "dropout_model = DropoutNet().to(device)\n",
    "optimizer = torch.optim.Adam(dropout_model.parameters(), lr=learning_rate)\n",
    "train(dropout_model, train_loader, criterion, optimizer, epochs)\n",
    "dropout_loss, dropout_acc = evaluate(dropout_model, test_loader, criterion)\n",
    "\n",
    "# Train and evaluate DropConnect model\n",
    "dropconnect_model = DropConnectNet().to(device)\n",
    "optimizer = torch.optim.Adam(dropconnect_model.parameters(), lr=learning_rate)\n",
    "train(dropconnect_model, train_loader, criterion, optimizer, epochs)\n",
    "dropconnect_loss, dropconnect_acc = evaluate(dropconnect_model, test_loader, criterion)\n"
   ]
  },
  {
   "cell_type": "markdown",
   "id": "0d74ebca",
   "metadata": {},
   "source": [
    "# Visualization"
   ]
  },
  {
   "cell_type": "code",
   "execution_count": 7,
   "id": "5d0dfa73",
   "metadata": {},
   "outputs": [
    {
     "data": {
      "image/png": "[encoded data removed]",
      "text/plain": [
       "<Figure size 1000x500 with 2 Axes>"
      ]
     },
     "metadata": {},
     "output_type": "display_data"
    }
   ],
   "source": [
    "import matplotlib.pyplot as plt\n",
    "\n",
    "# Visualization of test loss and accuracy\n",
    "labels = ['Baseline', 'Dropout', 'DropConnect']\n",
    "losses = [baseline_loss, dropout_loss, dropconnect_loss]\n",
    "accuracies = [baseline_acc, dropout_acc, dropconnect_acc]\n",
    "\n",
    "# Plotting accuracy\n",
    "plt.figure(figsize=(10, 5))\n",
    "plt.subplot(1, 2, 1)\n",
    "plt.bar(labels, accuracies, color=['blue', 'green', 'orange'])\n",
    "plt.title('Model Accuracy')\n",
    "plt.xlabel('Model Type')\n",
    "plt.ylabel('Accuracy')\n",
    "\n",
    "# Plotting loss\n",
    "plt.subplot(1, 2, 2)\n",
    "plt.bar(labels, losses, color=['blue', 'green', 'orange'])\n",
    "plt.title('Model Loss')\n",
    "plt.xlabel('Model Type')\n",
    "plt.ylabel('Loss')\n",
    "\n",
    "plt.tight_layout()\n",
    "plt.show()\n"
   ]
  },
  {
   "cell_type": "code",
   "execution_count": null,
   "id": "c994b23f",
   "metadata": {},
   "outputs": [],
   "source": []
  }
 ],
 "metadata": {
  "kernelspec": {
   "display_name": "Python 3 (ipykernel)",
   "language": "python",
   "name": "python3"
  },
  "language_info": {
   "codemirror_mode": {
    "name": "ipython",
    "version": 3
   },
   "file_extension": ".py",
   "mimetype": "text/x-python",
   "name": "python",
   "nbconvert_exporter": "python",
   "pygments_lexer": "ipython3",
   "version": "3.11.4"
  }
 },
 "nbformat": 4,
 "nbformat_minor": 5
}
