{
 "cells": [
  {
   "cell_type": "code",
   "execution_count": null,
   "metadata": {},
   "outputs": [],
   "source": [
    "import numpy as np\n",
    "\n",
    "class NavieBayes:\n",
    "    def fit(self, X,y):\n",
    "        self.classes = np.unique(y)\n",
    "        self.mean = {}\n",
    "        self.var = {}\n",
    "        self.prior = {}\n",
    "\n",
    "        for clas in self.classes:\n",
    "            X_cls = X[ y == clas]\n",
    "            self.mean[clas] = X_cls.mean(axis=0)\n",
    "            self.var[clas] = X_cls.var(axis=0)\n",
    "            self.prior[clas] = X_cls.shape[0] / X.shape[0]\n",
    "\n",
    "    def gaussian_density(self, x,clas):\n",
    "        mean = self.mean[clas]\n",
    "        var = self.var[clas]\n",
    "        numerator = np.exp(-((x - mean)** 2)/(2 * var))\n",
    "        denominator = np.sqrt(2* np.pi * var)\n",
    "        return numerator / denominator\n",
    "    \n",
    "    def predict(self, X):\n",
    "        predictions = []\n",
    "        for x in X:\n",
    "            posteriors = []\n",
    "            for clas in self.classes:\n",
    "                prior = np.log(self.prior[clas])\n",
    "                likelihood = np.sum(np.log(self.gaussian_density(x, clas)))\n",
    "                posterior = prior + likelihood\n",
    "                posteriors.append(posterior)\n",
    "            predictions.append(self.classes[np.argmax(posteriors)])\n",
    "        return np.array(predictions)"
   ]
  },
  {
   "cell_type": "code",
   "execution_count": null,
   "metadata": {},
   "outputs": [],
   "source": [
    "from sklearn.datasets import load_iris, load_wine\n",
    "from sklearn.model_selection import train_test_split\n",
    "from sklearn.metrics import accuracy_score\n",
    "\n",
    "# Naive Bayes Testing\n",
    "data = load_iris()\n",
    "X, y = data.data, data.target\n",
    "X_train, X_test, y_train, y_test = train_test_split(X, y, test_size=0.2, random_state=42)\n",
    "\n",
    "nb_model = NaiveBayes()\n",
    "nb_model.fit(X_train, y_train)\n",
    "y_pred = nb_model.predict(X_test)\n",
    "print(f\"Naive Bayes Accuracy: {accuracy_score(y_test, y_pred):.2f}\")"
   ]
  }
 ],
 "metadata": {
  "language_info": {
   "name": "python"
  }
 },
 "nbformat": 4,
 "nbformat_minor": 2
}
